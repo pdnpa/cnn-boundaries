{
 "cells": [
  {
   "attachments": {},
   "cell_type": "markdown",
   "metadata": {},
   "source": [
    "# Select site area\n",
    "\n",
    "National Character Areas - Whie Peak Peak District\n",
    "Cut to Peak District National Park Boundary"
   ]
  },
  {
   "cell_type": "code",
   "execution_count": 1,
   "metadata": {},
   "outputs": [],
   "source": [
    "# import libraries\n",
    "import geopandas as gpd\n",
    "import os"
   ]
  },
  {
   "cell_type": "code",
   "execution_count": 33,
   "metadata": {},
   "outputs": [
    {
     "data": {
      "text/html": [
       "<div>\n",
       "<style scoped>\n",
       "    .dataframe tbody tr th:only-of-type {\n",
       "        vertical-align: middle;\n",
       "    }\n",
       "\n",
       "    .dataframe tbody tr th {\n",
       "        vertical-align: top;\n",
       "    }\n",
       "\n",
       "    .dataframe thead th {\n",
       "        text-align: right;\n",
       "    }\n",
       "</style>\n",
       "<table border=\"1\" class=\"dataframe\">\n",
       "  <thead>\n",
       "    <tr style=\"text-align: right;\">\n",
       "      <th></th>\n",
       "      <th>JCACODE</th>\n",
       "      <th>JCANAME</th>\n",
       "      <th>NCA_Name</th>\n",
       "      <th>NAID</th>\n",
       "      <th>NANAME</th>\n",
       "      <th>Area_SqKM</th>\n",
       "      <th>Hotlink</th>\n",
       "      <th>ALT</th>\n",
       "      <th>BLT</th>\n",
       "      <th>geometry</th>\n",
       "    </tr>\n",
       "  </thead>\n",
       "  <tbody>\n",
       "    <tr>\n",
       "      <th>0</th>\n",
       "      <td>1.0</td>\n",
       "      <td>North Northumberland Coastal Plain</td>\n",
       "      <td>North Northumberland Coastal Plain</td>\n",
       "      <td>1.0</td>\n",
       "      <td>North Northumberland Coastal Plain</td>\n",
       "      <td>377</td>\n",
       "      <td>http://www.naturalengland.org.uk/publications/...</td>\n",
       "      <td>Eastern Arable</td>\n",
       "      <td>Low-lying coast</td>\n",
       "      <td>MULTIPOLYGON (((422301.159 632318.690, 422482....</td>\n",
       "    </tr>\n",
       "    <tr>\n",
       "      <th>1</th>\n",
       "      <td>2.0</td>\n",
       "      <td>Northumberland Sandstone Hills</td>\n",
       "      <td>Northumberland Sandstone Hills</td>\n",
       "      <td>2.0</td>\n",
       "      <td>Border Uplands</td>\n",
       "      <td>727</td>\n",
       "      <td>http://www.naturalengland.org.uk/publications/...</td>\n",
       "      <td>Upland Fringe</td>\n",
       "      <td>Sandstone hills and ridges</td>\n",
       "      <td>POLYGON ((403825.024 607401.362, 404207.117 60...</td>\n",
       "    </tr>\n",
       "    <tr>\n",
       "      <th>2</th>\n",
       "      <td>3.0</td>\n",
       "      <td>Cheviot Fringe</td>\n",
       "      <td>Cheviot Fringe</td>\n",
       "      <td>2.0</td>\n",
       "      <td>Border Uplands</td>\n",
       "      <td>516</td>\n",
       "      <td>http://www.naturalengland.org.uk/publications/...</td>\n",
       "      <td>Upland Fringe</td>\n",
       "      <td>Upland fringe</td>\n",
       "      <td>POLYGON ((392537.354 604957.562, 392449.791 60...</td>\n",
       "    </tr>\n",
       "    <tr>\n",
       "      <th>3</th>\n",
       "      <td>4.0</td>\n",
       "      <td>Cheviots</td>\n",
       "      <td>Cheviots</td>\n",
       "      <td>2.0</td>\n",
       "      <td>Border Uplands</td>\n",
       "      <td>365</td>\n",
       "      <td>http://www.naturalengland.org.uk/publications/...</td>\n",
       "      <td>Upland</td>\n",
       "      <td>Upland</td>\n",
       "      <td>POLYGON ((383441.939 630369.938, 383916.376 63...</td>\n",
       "    </tr>\n",
       "    <tr>\n",
       "      <th>4</th>\n",
       "      <td>5.0</td>\n",
       "      <td>Border Moors and Forests</td>\n",
       "      <td>Border Moors and Forests</td>\n",
       "      <td>2.0</td>\n",
       "      <td>Border Uplands</td>\n",
       "      <td>1272</td>\n",
       "      <td>http://www.naturalengland.org.uk/publications/...</td>\n",
       "      <td>Upland</td>\n",
       "      <td>Moorland and moorland fringe</td>\n",
       "      <td>POLYGON ((378707.748 608194.375, 379362.851 60...</td>\n",
       "    </tr>\n",
       "  </tbody>\n",
       "</table>\n",
       "</div>"
      ],
      "text/plain": [
       "   JCACODE                             JCANAME  \\\n",
       "0      1.0  North Northumberland Coastal Plain   \n",
       "1      2.0      Northumberland Sandstone Hills   \n",
       "2      3.0                      Cheviot Fringe   \n",
       "3      4.0                            Cheviots   \n",
       "4      5.0            Border Moors and Forests   \n",
       "\n",
       "                             NCA_Name  NAID  \\\n",
       "0  North Northumberland Coastal Plain   1.0   \n",
       "1      Northumberland Sandstone Hills   2.0   \n",
       "2                      Cheviot Fringe   2.0   \n",
       "3                            Cheviots   2.0   \n",
       "4            Border Moors and Forests   2.0   \n",
       "\n",
       "                               NANAME Area_SqKM  \\\n",
       "0  North Northumberland Coastal Plain       377   \n",
       "1                      Border Uplands       727   \n",
       "2                      Border Uplands       516   \n",
       "3                      Border Uplands       365   \n",
       "4                      Border Uplands      1272   \n",
       "\n",
       "                                             Hotlink             ALT  \\\n",
       "0  http://www.naturalengland.org.uk/publications/...  Eastern Arable   \n",
       "1  http://www.naturalengland.org.uk/publications/...   Upland Fringe   \n",
       "2  http://www.naturalengland.org.uk/publications/...   Upland Fringe   \n",
       "3  http://www.naturalengland.org.uk/publications/...          Upland   \n",
       "4  http://www.naturalengland.org.uk/publications/...          Upland   \n",
       "\n",
       "                            BLT  \\\n",
       "0               Low-lying coast   \n",
       "1    Sandstone hills and ridges   \n",
       "2                 Upland fringe   \n",
       "3                        Upland   \n",
       "4  Moorland and moorland fringe   \n",
       "\n",
       "                                            geometry  \n",
       "0  MULTIPOLYGON (((422301.159 632318.690, 422482....  \n",
       "1  POLYGON ((403825.024 607401.362, 404207.117 60...  \n",
       "2  POLYGON ((392537.354 604957.562, 392449.791 60...  \n",
       "3  POLYGON ((383441.939 630369.938, 383916.376 63...  \n",
       "4  POLYGON ((378707.748 608194.375, 379362.851 60...  "
      ]
     },
     "execution_count": 33,
     "metadata": {},
     "output_type": "execute_result"
    }
   ],
   "source": [
    "# load the NCA for the PDNP https://naturalengland-defra.opendata.arcgis.com/datasets/national-character-areas-england\n",
    "nca = \"../content/nca_areas/National_Character_Areas___Natural_England.shp\"\n",
    "nca = gpd.read_file(nca)\n",
    "nca.head()"
   ]
  },
  {
   "cell_type": "code",
   "execution_count": 34,
   "metadata": {},
   "outputs": [
    {
     "data": {
      "text/plain": [
       "<AxesSubplot:>"
      ]
     },
     "execution_count": 34,
     "metadata": {},
     "output_type": "execute_result"
    },
    {
     "data": {
      "image/png": "[encoded data removed]",
      "text/plain": [
       "<Figure size 576x576 with 1 Axes>"
      ]
     },
     "metadata": {
      "needs_background": "light"
     },
     "output_type": "display_data"
    }
   ],
   "source": [
    "# select the white peak\n",
    "wp = nca[nca.NCA_Name==\"White Peak\"]\n",
    "wp.plot(figsize=(8,8))"
   ]
  },
  {
   "cell_type": "code",
   "execution_count": 36,
   "metadata": {},
   "outputs": [],
   "source": [
    "# load pdnp boundary https://naturalengland-defra.opendata.arcgis.com/datasets/national-parks-england/explore\n",
    "np = \"../content/pdnp_boundary/National_Parks_(England)___Natural_England.shp\"\n",
    "np = gpd.read_file(np)\n",
    "pdnp = np[np.NAME==\"PEAK DISTRICT\"]"
   ]
  },
  {
   "cell_type": "code",
   "execution_count": 37,
   "metadata": {},
   "outputs": [
    {
     "data": {
      "text/plain": [
       "<AxesSubplot:>"
      ]
     },
     "execution_count": 37,
     "metadata": {},
     "output_type": "execute_result"
    },
    {
     "data": {
      "image/png": "[encoded data removed]",
      "text/plain": [
       "<Figure size 576x576 with 1 Axes>"
      ]
     },
     "metadata": {
      "needs_background": "light"
     },
     "output_type": "display_data"
    }
   ],
   "source": [
    "# Cut WP to PDNP boundary\n",
    "pdnp_wp = gpd.clip(wp,pdnp)\n",
    "pdnp_wp.plot(figsize=(8,8))"
   ]
  },
  {
   "attachments": {},
   "cell_type": "markdown",
   "metadata": {},
   "source": [
    "Small area at bottom of the wp nca that doen's quite extend the pdnp boundary. Maybe needs adding back in will give it some thought. Won't matter with intersection of 1km Grid but probably would with a patch intersection. "
   ]
  },
  {
   "attachments": {},
   "cell_type": "markdown",
   "metadata": {},
   "source": [
    "## Grid Selector"
   ]
  },
  {
   "cell_type": "code",
   "execution_count": 38,
   "metadata": {},
   "outputs": [],
   "source": [
    "# load pdnp boundary \n",
    "lcg = \"../content/landscape_character_grid/Landscape_Character_Grid.shp\"\n",
    "lcg = gpd.read_file(lcg)"
   ]
  },
  {
   "cell_type": "code",
   "execution_count": 39,
   "metadata": {},
   "outputs": [
    {
     "data": {
      "text/plain": [
       "<AxesSubplot:>"
      ]
     },
     "execution_count": 39,
     "metadata": {},
     "output_type": "execute_result"
    },
    {
     "data": {
      "image/png": "[encoded data removed]",
      "text/plain": [
       "<Figure size 576x576 with 1 Axes>"
      ]
     },
     "metadata": {
      "needs_background": "light"
     },
     "output_type": "display_data"
    }
   ],
   "source": [
    "# Select grid by intersection\n",
    "lcg_wp = gpd.sjoin(lcg, pdnp_wp)\n",
    "lcg_wp.plot(figsize=(8,8))"
   ]
  },
  {
   "cell_type": "code",
   "execution_count": 40,
   "metadata": {},
   "outputs": [
    {
     "name": "stderr",
     "output_type": "stream",
     "text": [
      "C:\\Users\\alexad\\AppData\\Local\\Temp\\ipykernel_4108\\3720138328.py:3: UserWarning: Column names longer than 10 characters will be truncated when saved to ESRI Shapefile.\n",
      "  lcg_wp.to_file(out_file_path)\n"
     ]
    }
   ],
   "source": [
    "# save as a new file \n",
    "out_file_path = r\"../content/landscape_character_grid/selection_white_peak.shp\"\n",
    "lcg_wp.to_file(out_file_path)"
   ]
  },
  {
   "cell_type": "code",
   "execution_count": null,
   "metadata": {},
   "outputs": [],
   "source": []
  }
 ],
 "metadata": {
  "kernelspec": {
   "display_name": "base",
   "language": "python",
   "name": "python3"
  },
  "language_info": {
   "codemirror_mode": {
    "name": "ipython",
    "version": 3
   },
   "file_extension": ".py",
   "mimetype": "text/x-python",
   "name": "python",
   "nbconvert_exporter": "python",
   "pygments_lexer": "ipython3",
   "version": "3.9.12"
  },
  "orig_nbformat": 4
 },
 "nbformat": 4,
 "nbformat_minor": 2
}
