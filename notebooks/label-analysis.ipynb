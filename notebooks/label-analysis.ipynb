{
 "cells": [
  {
   "cell_type": "markdown",
   "metadata": {},
   "source": [
    "#### Exploration of 2023 Labels \n",
    "\n",
    "* Data annotated by Simon Geikie July/August 2023\n",
    "* Data sourced for Ordnance Survey July/August 2023\n",
    "\n",
    "| **Key**                     | **Meaning**                                                             |\n",
    "|-----------------------------|-------------------------------------------------------------------------|\n",
    "| A: Present                  | Present in OS data \\| Present in the 2023 AP \\| Present in 2014 AP      |\n",
    "| B: Absent                   | Present in OS data \\| Absent in the 2023 AP \\| Absent in 2014 AP        |\n",
    "| C: Absent (Present in 2014) | Absent in OS data \\| Absent in the 2023 AP \\| Present in 2014 AP        |\n",
    "| E: Obscured (Vegetation)    | Obscured by trees, scrub or long grass.                                 |\n",
    "| H: Urban                    | A mask created to simplify the detection of walls to only the open landscape |"
   ]
  },
  {
   "cell_type": "code",
   "execution_count": 7,
   "metadata": {},
   "outputs": [],
   "source": [
    "# load libraries \n",
    "import fiona\n",
    "import shapely as sp\n",
    "from shapely import LineString\n",
    "import matplotlib.pyplot as plt"
   ]
  },
  {
   "cell_type": "code",
   "execution_count": 3,
   "metadata": {},
   "outputs": [],
   "source": [
    "# load data\n",
    "walls = fiona.open(\"../content/labels/Walls_Features_for_CNN.shp\")"
   ]
  },
  {
   "cell_type": "code",
   "execution_count": 9,
   "metadata": {},
   "outputs": [
    {
     "ename": "ValueError",
     "evalue": "linestrings: Input operand 0 does not have enough dimensions (has 1, gufunc core with signature (i, d)->() requires 2)",
     "output_type": "error",
     "traceback": [
      "\u001b[1;31m---------------------------------------------------------------------------\u001b[0m",
      "\u001b[1;31mValueError\u001b[0m                                Traceback (most recent call last)",
      "\u001b[1;32mc:\\Users\\alexad\\Documents\\GitHub\\cnn-boundaries\\notebooks\\label-analysis.ipynb Cell 4\u001b[0m in \u001b[0;36m<cell line: 1>\u001b[1;34m()\u001b[0m\n\u001b[1;32m----> <a href='vscode-notebook-cell:/c%3A/Users/alexad/Documents/GitHub/cnn-boundaries/notebooks/label-analysis.ipynb#W3sZmlsZQ%3D%3D?line=0'>1</a>\u001b[0m walls \u001b[39m=\u001b[39m LineString(walls)\n\u001b[0;32m      <a href='vscode-notebook-cell:/c%3A/Users/alexad/Documents/GitHub/cnn-boundaries/notebooks/label-analysis.ipynb#W3sZmlsZQ%3D%3D?line=1'>2</a>\u001b[0m walls\u001b[39m.\u001b[39mlength\n",
      "File \u001b[1;32mc:\\Users\\alexad\\Anaconda3\\lib\\site-packages\\shapely\\geometry\\linestring.py:73\u001b[0m, in \u001b[0;36mLineString.__new__\u001b[1;34m(self, coordinates)\u001b[0m\n\u001b[0;32m     68\u001b[0m \u001b[39mif\u001b[39;00m \u001b[39mlen\u001b[39m(coordinates) \u001b[39m==\u001b[39m \u001b[39m0\u001b[39m:\n\u001b[0;32m     69\u001b[0m     \u001b[39m# empty geometry\u001b[39;00m\n\u001b[0;32m     70\u001b[0m     \u001b[39m# TODO better constructor + should shapely.linestrings handle this?\u001b[39;00m\n\u001b[0;32m     71\u001b[0m     \u001b[39mreturn\u001b[39;00m shapely\u001b[39m.\u001b[39mfrom_wkt(\u001b[39m\"\u001b[39m\u001b[39mLINESTRING EMPTY\u001b[39m\u001b[39m\"\u001b[39m)\n\u001b[1;32m---> 73\u001b[0m geom \u001b[39m=\u001b[39m shapely\u001b[39m.\u001b[39;49mlinestrings(coordinates)\n\u001b[0;32m     74\u001b[0m \u001b[39mif\u001b[39;00m \u001b[39mnot\u001b[39;00m \u001b[39misinstance\u001b[39m(geom, LineString):\n\u001b[0;32m     75\u001b[0m     \u001b[39mraise\u001b[39;00m \u001b[39mValueError\u001b[39;00m(\u001b[39m\"\u001b[39m\u001b[39mInvalid values passed to LineString constructor\u001b[39m\u001b[39m\"\u001b[39m)\n",
      "File \u001b[1;32mc:\\Users\\alexad\\Anaconda3\\lib\\site-packages\\shapely\\decorators.py:77\u001b[0m, in \u001b[0;36mmultithreading_enabled.<locals>.wrapped\u001b[1;34m(*args, **kwargs)\u001b[0m\n\u001b[0;32m     75\u001b[0m     \u001b[39mfor\u001b[39;00m arr \u001b[39min\u001b[39;00m array_args:\n\u001b[0;32m     76\u001b[0m         arr\u001b[39m.\u001b[39mflags\u001b[39m.\u001b[39mwriteable \u001b[39m=\u001b[39m \u001b[39mFalse\u001b[39;00m\n\u001b[1;32m---> 77\u001b[0m     \u001b[39mreturn\u001b[39;00m func(\u001b[39m*\u001b[39margs, \u001b[39m*\u001b[39m\u001b[39m*\u001b[39mkwargs)\n\u001b[0;32m     78\u001b[0m \u001b[39mfinally\u001b[39;00m:\n\u001b[0;32m     79\u001b[0m     \u001b[39mfor\u001b[39;00m arr, old_flag \u001b[39min\u001b[39;00m \u001b[39mzip\u001b[39m(array_args, old_flags):\n",
      "File \u001b[1;32mc:\\Users\\alexad\\Anaconda3\\lib\\site-packages\\shapely\\creation.py:120\u001b[0m, in \u001b[0;36mlinestrings\u001b[1;34m(coords, y, z, indices, out, **kwargs)\u001b[0m\n\u001b[0;32m    118\u001b[0m coords \u001b[39m=\u001b[39m _xyz_to_coords(coords, y, z)\n\u001b[0;32m    119\u001b[0m \u001b[39mif\u001b[39;00m indices \u001b[39mis\u001b[39;00m \u001b[39mNone\u001b[39;00m:\n\u001b[1;32m--> 120\u001b[0m     \u001b[39mreturn\u001b[39;00m lib\u001b[39m.\u001b[39mlinestrings(coords, out\u001b[39m=\u001b[39mout, \u001b[39m*\u001b[39m\u001b[39m*\u001b[39mkwargs)\n\u001b[0;32m    121\u001b[0m \u001b[39melse\u001b[39;00m:\n\u001b[0;32m    122\u001b[0m     \u001b[39mreturn\u001b[39;00m simple_geometries_1d(coords, indices, GeometryType\u001b[39m.\u001b[39mLINESTRING, out\u001b[39m=\u001b[39mout)\n",
      "\u001b[1;31mValueError\u001b[0m: linestrings: Input operand 0 does not have enough dimensions (has 1, gufunc core with signature (i, d)->() requires 2)"
     ]
    }
   ],
   "source": [
    "walls = LineString(walls)\n",
    "walls.length"
   ]
  }
 ],
 "metadata": {
  "kernelspec": {
   "display_name": "base",
   "language": "python",
   "name": "python3"
  },
  "language_info": {
   "codemirror_mode": {
    "name": "ipython",
    "version": 3
   },
   "file_extension": ".py",
   "mimetype": "text/x-python",
   "name": "python",
   "nbconvert_exporter": "python",
   "pygments_lexer": "ipython3",
   "version": "3.9.12"
  },
  "orig_nbformat": 4
 },
 "nbformat": 4,
 "nbformat_minor": 2
}
