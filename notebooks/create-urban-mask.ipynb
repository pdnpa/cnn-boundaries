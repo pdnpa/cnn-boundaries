{
 "cells": [
  {
   "cell_type": "code",
   "execution_count": 13,
   "metadata": {},
   "outputs": [
    {
     "name": "stdout",
     "output_type": "stream",
     "text": [
      "The autoreload extension is already loaded. To reload it, use:\n",
      "  %reload_ext autoreload\n"
     ]
    }
   ],
   "source": [
    "%load_ext autoreload\n",
    "%autoreload 2"
   ]
  },
  {
   "cell_type": "code",
   "execution_count": 14,
   "metadata": {},
   "outputs": [],
   "source": [
    "import os, sys\n",
    "sys.path.append('../scripts/')\n",
    "import geopandas as gpd\n",
    "import matplotlib.pyplot as plt\n",
    "import pandas as pd\n",
    "import mask_var as mvar\n",
    "import rasterio\n",
    "from rasterio.plot import show \n",
    "from rasterio.plot import plotting_extent\n",
    "from osdatahub import NGD\n",
    "from dotenv import load_dotenv"
   ]
  },
  {
   "cell_type": "markdown",
   "metadata": {},
   "source": [
    "### Create Urban Mask"
   ]
  },
  {
   "cell_type": "code",
   "execution_count": 15,
   "metadata": {},
   "outputs": [],
   "source": [
    "# Set API key, details from https://github.com/OrdnanceSurvey/osdatahub\n",
    "load_dotenv()\n",
    "key_os = os.environ['KEY']"
   ]
  },
  {
   "cell_type": "code",
   "execution_count": 16,
   "metadata": {},
   "outputs": [
    {
     "name": "stdout",
     "output_type": "stream",
     "text": [
      " - Building v1 (bld-fts-building-1)\n",
      " - Building Line v1 (bld-fts-buildingline-1)\n",
      " - Building Part v1 (bld-fts-buildingpart-1)\n",
      " - Named Area v1 (gnm-fts-namedarea-1)\n",
      " - Named Point v1 (gnm-fts-namedpoint-1)\n",
      " - Land v1 (lnd-fts-land-1)\n",
      " - Landform v1 (lnd-fts-landform-1)\n",
      " - Landform Line v1 (lnd-fts-landformline-1)\n",
      " - Landform Point v1 (lnd-fts-landformpoint-1)\n",
      " - Land Point v1 (lnd-fts-landpoint-1)\n",
      " - Site v1 (lus-fts-site-1)\n",
      " - Site Access Location v1 (lus-fts-siteaccesslocation-1)\n",
      " - Site Routing Point v1 (lus-fts-siteroutingpoint-1)\n",
      " - Compound Structure v1 (str-fts-compoundstructure-1)\n",
      " - Structure v1 (str-fts-structure-1)\n",
      " - Structure Line v1 (str-fts-structureline-1)\n",
      " - Structure Point v1 (str-fts-structurepoint-1)\n",
      " - Cartographic Rail Detail v1 (trn-fts-cartographicraildetail-1)\n",
      " - Rail v1 (trn-fts-rail-1)\n",
      " - Road Line v1 (trn-fts-roadline-1)\n",
      " - Road Track Or Path v1 (trn-fts-roadtrackorpath-1)\n",
      " - Connecting Link v1 (trn-ntwk-connectinglink-1)\n",
      " - Connecting Node v1 (trn-ntwk-connectingnode-1)\n",
      " - Ferry Link v1 (trn-ntwk-ferrylink-1)\n",
      " - Ferry Node v1 (trn-ntwk-ferrynode-1)\n",
      " - Ferry Terminal v1 (trn-ntwk-ferryterminal-1)\n",
      " - Path v1 (trn-ntwk-path-1)\n",
      " - Path Link v1 (trn-ntwk-pathlink-1)\n",
      " - Path Node v1 (trn-ntwk-pathnode-1)\n",
      " - Pavement Link v1 (trn-ntwk-pavementlink-1)\n",
      " - Railway Link v1 (trn-ntwk-railwaylink-1)\n",
      " - Railway Link Set v1 (trn-ntwk-railwaylinkset-1)\n",
      " - Railway Node v1 (trn-ntwk-railwaynode-1)\n",
      " - Road v1 (trn-ntwk-road-1)\n",
      " - Road Junction v1 (trn-ntwk-roadjunction-1)\n",
      " - Road Link v1 (trn-ntwk-roadlink-1)\n",
      " - Road Link v2 (trn-ntwk-roadlink-2)\n",
      " - Road Node v1 (trn-ntwk-roadnode-1)\n",
      " - Street v1 (trn-ntwk-street-1)\n",
      " - Average And Indicative Speed v1 (trn-rami-averageandindicativespeed-1)\n",
      " - Highway Dedication v1 (trn-rami-highwaydedication-1)\n",
      " - Maintenance Area v1 (trn-rami-maintenancearea-1)\n",
      " - Maintenance Line v1 (trn-rami-maintenanceline-1)\n",
      " - Maintenance Point v1 (trn-rami-maintenancepoint-1)\n",
      " - Reinstatement Area v1 (trn-rami-reinstatementarea-1)\n",
      " - Reinstatement Line v1 (trn-rami-reinstatementline-1)\n",
      " - Reinstatement Point v1 (trn-rami-reinstatementpoint-1)\n",
      " - Restriction v1 (trn-rami-restriction-1)\n",
      " - Routing Hazard v1 (trn-rami-routinghazard-1)\n",
      " - RoutingStructure v1 (trn-rami-routingstructure-1)\n",
      " - Special Designation Area v1 (trn-rami-specialdesignationarea-1)\n",
      " - Special Designation Line v1 (trn-rami-specialdesignationline-1)\n",
      " - Special Designation Point v1 (trn-rami-specialdesignationpoint-1)\n",
      " - Inter Tidal Line v1 (wtr-fts-intertidalline-1)\n",
      " - Tidal Boundary v1 (wtr-fts-tidalboundary-1)\n",
      " - Water v1 (wtr-fts-water-1)\n",
      " - Water Point v1 (wtr-fts-waterpoint-1)\n",
      " - Water Link v1 (wtr-ntwk-waterlink-1)\n",
      " - Water Link Set v1 (wtr-ntwk-waterlinkset-1)\n",
      " - Water Node v1 (wtr-ntwk-waternode-1)\n"
     ]
    }
   ],
   "source": [
    "ngd_collections = NGD.get_collections()\n",
    "for collection in ngd_collections['collections']:\n",
    "    print(f' - {collection[\"title\"]} ({collection[\"id\"]})')"
   ]
  },
  {
   "cell_type": "code",
   "execution_count": 36,
   "metadata": {},
   "outputs": [
    {
     "ename": "TypeError",
     "evalue": "__init__() missing 1 required positional argument: 'gdf'",
     "output_type": "error",
     "traceback": [
      "\u001b[1;31m---------------------------------------------------------------------------\u001b[0m",
      "\u001b[1;31mTypeError\u001b[0m                                 Traceback (most recent call last)",
      "\u001b[1;32mc:\\Users\\alexad\\Documents\\GitHub\\cnn-boundaries\\notebooks\\create-urban-mask.ipynb Cell 6\u001b[0m line \u001b[0;36m<cell line: 19>\u001b[1;34m()\u001b[0m\n\u001b[0;32m     <a href='vscode-notebook-cell:/c%3A/Users/alexad/Documents/GitHub/cnn-boundaries/notebooks/create-urban-mask.ipynb#W5sZmlsZQ%3D%3D?line=19'>20</a>\u001b[0m ngd \u001b[39m=\u001b[39m NGD(key_os, value)\n\u001b[0;32m     <a href='vscode-notebook-cell:/c%3A/Users/alexad/Documents/GitHub/cnn-boundaries/notebooks/create-urban-mask.ipynb#W5sZmlsZQ%3D%3D?line=20'>21</a>\u001b[0m ngd_ \u001b[39m=\u001b[39m \u001b[39m\"\u001b[39m\u001b[39mngd_\u001b[39m\u001b[39m\"\u001b[39m \u001b[39m+\u001b[39m key\n\u001b[1;32m---> <a href='vscode-notebook-cell:/c%3A/Users/alexad/Documents/GitHub/cnn-boundaries/notebooks/create-urban-mask.ipynb#W5sZmlsZQ%3D%3D?line=21'>22</a>\u001b[0m dict_os_layers[ngd_] \u001b[39m=\u001b[39m ngd\u001b[39m.\u001b[39mquery(extent\u001b[39m=\u001b[39mmvar\u001b[39m.\u001b[39;49mbb(lyr), crs\u001b[39m=\u001b[39m\u001b[39m\"\u001b[39m\u001b[39mEPSG:27700\u001b[39m\u001b[39m\"\u001b[39m, max_results\u001b[39m=\u001b[39m\u001b[39m1000000000\u001b[39m)\n\u001b[0;32m     <a href='vscode-notebook-cell:/c%3A/Users/alexad/Documents/GitHub/cnn-boundaries/notebooks/create-urban-mask.ipynb#W5sZmlsZQ%3D%3D?line=22'>23</a>\u001b[0m \u001b[39mif\u001b[39;00m dict_os_layers[ngd_][\u001b[39m'\u001b[39m\u001b[39mnumberReturned\u001b[39m\u001b[39m'\u001b[39m] \u001b[39m>\u001b[39m \u001b[39m0\u001b[39m:\n\u001b[0;32m     <a href='vscode-notebook-cell:/c%3A/Users/alexad/Documents/GitHub/cnn-boundaries/notebooks/create-urban-mask.ipynb#W5sZmlsZQ%3D%3D?line=23'>24</a>\u001b[0m     \u001b[39m# add to dict\u001b[39;00m\n\u001b[0;32m     <a href='vscode-notebook-cell:/c%3A/Users/alexad/Documents/GitHub/cnn-boundaries/notebooks/create-urban-mask.ipynb#W5sZmlsZQ%3D%3D?line=24'>25</a>\u001b[0m     dict_os_layers\u001b[39m.\u001b[39mupdate(dict_os_layers[ngd_])\n",
      "File \u001b[1;32mc:\\Users\\alexad\\Documents\\GitHub\\cnn-boundaries\\notebooks\\../scripts\\mask_var.py:41\u001b[0m, in \u001b[0;36mbb\u001b[1;34m(lyr)\u001b[0m\n\u001b[0;32m     39\u001b[0m \u001b[39mif\u001b[39;00m \u001b[39misinstance\u001b[39m (lyr, rasterio\u001b[39m.\u001b[39mio\u001b[39m.\u001b[39mDatasetReader):\n\u001b[0;32m     40\u001b[0m     bbox \u001b[39m=\u001b[39m Extent\u001b[39m.\u001b[39mfrom_bbox(lyr\u001b[39m.\u001b[39mbounds, crs\u001b[39m=\u001b[39m\u001b[39m\"\u001b[39m\u001b[39mEPSG:27700\u001b[39m\u001b[39m\"\u001b[39m)\n\u001b[1;32m---> 41\u001b[0m     \u001b[39mreturn\u001b[39;00m Mask(bbox) \u001b[39m# works with raster\u001b[39;00m\n\u001b[0;32m     42\u001b[0m \u001b[39melse\u001b[39;00m:\n\u001b[0;32m     43\u001b[0m     bbox \u001b[39m=\u001b[39m \u001b[39mround\u001b[39m(lyr\u001b[39m.\u001b[39mbounds)\n",
      "\u001b[1;31mTypeError\u001b[0m: __init__() missing 1 required positional argument: 'gdf'"
     ]
    }
   ],
   "source": [
    "# define layer for bbox extent & OS-API collection\n",
    "lyr = rasterio.open(\"../content/tifs/1k_tifs/SK1868.tif\")\n",
    "\n",
    "# os collections for urban mask\n",
    "collections = {'buildings' : 'bld-fts-buildingpart-1',\n",
    "               'sites' : 'lus-fts-site-1', \n",
    "               'railways' : 'trn-fts-rail-1', \n",
    "               'land' : 'lnd-fts-land-1',\n",
    "               'water' : 'wtr-fts-waterpoint-1',\n",
    "               'road' : 'trn-fts-roadline-1',\n",
    "               'track' : 'trn-fts-roadtrackorpath-1',\n",
    "               'waterlink' : 'wtr-ntwk-waterlink-1',\n",
    "               'waterlinkset' : 'wtr-ntwk-waterlinkset-1'}\n",
    "\n",
    "dict_os_layers = {}\n",
    "gdf = gpd.GeoDataFrame()\n",
    "\n",
    "# API variables\n",
    "for key, value in collections.items():\n",
    "    ngd = NGD(key_os, value)\n",
    "    ngd_ = \"ngd_\" + key\n",
    "    dict_os_layers[ngd_] = ngd.query(extent=mvar.bb(lyr), crs=\"EPSG:27700\", max_results=1000000000)\n",
    "    if dict_os_layers[ngd_]['numberReturned'] > 0:\n",
    "        # add to dict\n",
    "        dict_os_layers.update(dict_os_layers[ngd_])\n",
    "        d =  gpd.GeoDataFrame.from_features((dict_os_layers[ngd_]), crs=\"EPSG:27700\")\n",
    "        gdf = pd.concat([gdf, d])\n",
    "        print(ngd_ + \" query contains the following number of features:\" + str(dict_os_layers[ngd_]['numberReturned']))\n",
    "    else:\n",
    "        print(key + \" query is empty!\")"
   ]
  },
  {
   "cell_type": "code",
   "execution_count": 37,
   "metadata": {},
   "outputs": [],
   "source": [
    "# create urban mask\n",
    "mask = mvar.Mask(lyr, gdf)"
   ]
  },
  {
   "cell_type": "code",
   "execution_count": 31,
   "metadata": {},
   "outputs": [
    {
     "data": {
      "text/plain": [
       "<mask_var.Mask at 0x1a59a129df0>"
      ]
     },
     "execution_count": 31,
     "metadata": {},
     "output_type": "execute_result"
    }
   ],
   "source": [
    "mask"
   ]
  },
  {
   "cell_type": "code",
   "execution_count": 38,
   "metadata": {},
   "outputs": [
    {
     "ename": "AttributeError",
     "evalue": "'Mask' object has no attribute 'plot'",
     "output_type": "error",
     "traceback": [
      "\u001b[1;31m---------------------------------------------------------------------------\u001b[0m",
      "\u001b[1;31mAttributeError\u001b[0m                            Traceback (most recent call last)",
      "\u001b[1;32mc:\\Users\\alexad\\Documents\\GitHub\\cnn-boundaries\\notebooks\\create-urban-mask.ipynb Cell 9\u001b[0m line \u001b[0;36m<cell line: 1>\u001b[1;34m()\u001b[0m\n\u001b[1;32m----> <a href='vscode-notebook-cell:/c%3A/Users/alexad/Documents/GitHub/cnn-boundaries/notebooks/create-urban-mask.ipynb#X10sZmlsZQ%3D%3D?line=0'>1</a>\u001b[0m ax \u001b[39m=\u001b[39m mask\u001b[39m.\u001b[39;49mplot(color\u001b[39m=\u001b[39m\u001b[39m\"\u001b[39m\u001b[39mwhite\u001b[39m\u001b[39m\"\u001b[39m, alpha\u001b[39m=\u001b[39m\u001b[39m1\u001b[39m, figsize\u001b[39m=\u001b[39m(\u001b[39m20\u001b[39m, \u001b[39m20\u001b[39m))\n\u001b[0;32m      <a href='vscode-notebook-cell:/c%3A/Users/alexad/Documents/GitHub/cnn-boundaries/notebooks/create-urban-mask.ipynb#X10sZmlsZQ%3D%3D?line=1'>2</a>\u001b[0m show(lyr, ax\u001b[39m=\u001b[39max, with_bounds\u001b[39m=\u001b[39m\u001b[39mTrue\u001b[39;00m)\n\u001b[0;32m      <a href='vscode-notebook-cell:/c%3A/Users/alexad/Documents/GitHub/cnn-boundaries/notebooks/create-urban-mask.ipynb#X10sZmlsZQ%3D%3D?line=2'>3</a>\u001b[0m ax\u001b[39m.\u001b[39mset_xlabel(\u001b[39m\"\u001b[39m\u001b[39mEastings\u001b[39m\u001b[39m\"\u001b[39m), ax\u001b[39m.\u001b[39mset_ylabel(\u001b[39m\"\u001b[39m\u001b[39mNorthings\u001b[39m\u001b[39m\"\u001b[39m)\n",
      "\u001b[1;31mAttributeError\u001b[0m: 'Mask' object has no attribute 'plot'"
     ]
    }
   ],
   "source": [
    "ax = mask.plot(color=\"white\", alpha=1, figsize=(20, 20))\n",
    "show(lyr, ax=ax, with_bounds=True)\n",
    "ax.set_xlabel(\"Eastings\"), ax.set_ylabel(\"Northings\")\n",
    "#ax.set_xlim(417000, xmax=419000)\n",
    "#ax.set_ylim(367000, ymax=369000)"
   ]
  },
  {
   "cell_type": "markdown",
   "metadata": {},
   "source": [
    "#### Output as raster for map-reader.ipynb"
   ]
  },
  {
   "cell_type": "code",
   "execution_count": 9,
   "metadata": {},
   "outputs": [
    {
     "data": {
      "text/html": [
       "<div>\n",
       "<style scoped>\n",
       "    .dataframe tbody tr th:only-of-type {\n",
       "        vertical-align: middle;\n",
       "    }\n",
       "\n",
       "    .dataframe tbody tr th {\n",
       "        vertical-align: top;\n",
       "    }\n",
       "\n",
       "    .dataframe thead th {\n",
       "        text-align: right;\n",
       "    }\n",
       "</style>\n",
       "<table border=\"1\" class=\"dataframe\">\n",
       "  <thead>\n",
       "    <tr style=\"text-align: right;\">\n",
       "      <th></th>\n",
       "      <th>geometry</th>\n",
       "      <th>theme</th>\n",
       "    </tr>\n",
       "  </thead>\n",
       "  <tbody>\n",
       "    <tr>\n",
       "      <th>0</th>\n",
       "      <td>MULTIPOLYGON (((417531.804 368802.204, 417545....</td>\n",
       "      <td>1</td>\n",
       "    </tr>\n",
       "  </tbody>\n",
       "</table>\n",
       "</div>"
      ],
      "text/plain": [
       "                                            geometry  theme\n",
       "0  MULTIPOLYGON (((417531.804 368802.204, 417545....      1"
      ]
     },
     "execution_count": 9,
     "metadata": {},
     "output_type": "execute_result"
    }
   ],
   "source": [
    "# add a column for raster value labels\n",
    "mask['theme'] = 1\n",
    "mask.head()"
   ]
  },
  {
   "cell_type": "code",
   "execution_count": 8,
   "metadata": {},
   "outputs": [
    {
     "data": {
      "text/html": [
       "<div>\n",
       "<style scoped>\n",
       "    .dataframe tbody tr th:only-of-type {\n",
       "        vertical-align: middle;\n",
       "    }\n",
       "\n",
       "    .dataframe tbody tr th {\n",
       "        vertical-align: top;\n",
       "    }\n",
       "\n",
       "    .dataframe thead th {\n",
       "        text-align: right;\n",
       "    }\n",
       "</style>\n",
       "<table border=\"1\" class=\"dataframe\">\n",
       "  <thead>\n",
       "    <tr style=\"text-align: right;\">\n",
       "      <th></th>\n",
       "      <th>geometry</th>\n",
       "    </tr>\n",
       "  </thead>\n",
       "  <tbody>\n",
       "    <tr>\n",
       "      <th>0</th>\n",
       "      <td>MULTIPOLYGON (((417531.804 368802.204, 417545....</td>\n",
       "    </tr>\n",
       "  </tbody>\n",
       "</table>\n",
       "</div>"
      ],
      "text/plain": [
       "                                            geometry\n",
       "0  MULTIPOLYGON (((417531.804 368802.204, 417545...."
      ]
     },
     "execution_count": 8,
     "metadata": {},
     "output_type": "execute_result"
    }
   ],
   "source": []
  },
  {
   "cell_type": "code",
   "execution_count": 10,
   "metadata": {},
   "outputs": [
    {
     "name": "stdout",
     "output_type": "stream",
     "text": [
      "1490\n",
      "1491\n",
      "{'driver': 'GTiff', 'dtype': 'uint8', 'nodata': 255.0, 'width': 1490, 'height': 1491, 'count': 3, 'crs': CRS.from_wkt('PROJCS[\"OSGB_1936_British_National_Grid\",GEOGCS[\"OSGB36\",DATUM[\"Ordnance_Survey_of_Great_Britain_1936\",SPHEROID[\"Airy 1830\",6377563.396,299.3249646]],PRIMEM[\"Greenwich\",0],UNIT[\"degree\",0.0174532925199433,AUTHORITY[\"EPSG\",\"9122\"]]],PROJECTION[\"Transverse_Mercator\"],PARAMETER[\"latitude_of_origin\",49],PARAMETER[\"central_meridian\",-2],PARAMETER[\"scale_factor\",0.9996012717],PARAMETER[\"false_easting\",400000],PARAMETER[\"false_northing\",-100000],UNIT[\"metre\",1,AUTHORITY[\"EPSG\",\"9001\"]],AXIS[\"Easting\",EAST],AXIS[\"Northing\",NORTH]]'), 'transform': Affine(0.6713639789762135, 0.0, 417999.7823474275,\n",
      "       0.0, -0.6713639789762267, 369000.65026383003)}\n"
     ]
    }
   ],
   "source": [
    "# raster calcs\n",
    "print(lyr.width)\n",
    "print(lyr.height)\n",
    "print(lyr.meta)"
   ]
  },
  {
   "cell_type": "code",
   "execution_count": 11,
   "metadata": {},
   "outputs": [
    {
     "name": "stdout",
     "output_type": "stream",
     "text": [
      "Current data size cube is 55.27382 MB\n",
      "New cube data size is 6.946044 MB\n",
      "Saved to ../content/tifs/mask.tif\n"
     ]
    }
   ],
   "source": [
    "ex_raster = mvar.convert_shp_mask_to_raster(df_shp=mask,\n",
    "                                           plot_raster=False,\n",
    "                                           save_raster=True,\n",
    "                                           verbose=1)"
   ]
  },
  {
   "cell_type": "code",
   "execution_count": null,
   "metadata": {},
   "outputs": [],
   "source": [
    "# save as a new file \n",
    "out_file_path = r\"../content/ngd_boundaries/mask.shp\"\n",
    "mask.to_file(out_file_path)"
   ]
  }
 ],
 "metadata": {
  "kernelspec": {
   "display_name": "base",
   "language": "python",
   "name": "python3"
  },
  "language_info": {
   "codemirror_mode": {
    "name": "ipython",
    "version": 3
   },
   "file_extension": ".py",
   "mimetype": "text/x-python",
   "name": "python",
   "nbconvert_exporter": "python",
   "pygments_lexer": "ipython3",
   "version": "3.9.12"
  },
  "orig_nbformat": 4
 },
 "nbformat": 4,
 "nbformat_minor": 2
}
